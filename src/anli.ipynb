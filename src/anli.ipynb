{
 "cells": [
  {
   "cell_type": "code",
   "execution_count": 44,
   "id": "dabfab59",
   "metadata": {
    "ExecuteTime": {
     "end_time": "2022-02-27T06:44:18.041367Z",
     "start_time": "2022-02-27T06:44:18.038293Z"
    }
   },
   "outputs": [],
   "source": [
    "import json\n",
    "import torch\n",
    "\n",
    "from minicons import scorer\n",
    "\n",
    "from torch.utils.data import DataLoader\n",
    "from tqdm import tqdm\n",
    "\n",
    "from sklearn.metrics import accuracy_score, f1_score"
   ]
  },
  {
   "cell_type": "code",
   "execution_count": 10,
   "id": "041717b9",
   "metadata": {
    "ExecuteTime": {
     "end_time": "2022-02-27T06:19:19.575327Z",
     "start_time": "2022-02-27T06:19:19.571205Z"
    }
   },
   "outputs": [],
   "source": [
    "def get_anli(split = \"dev\"):\n",
    "    labels = []\n",
    "    with open(f\"../data/anli/{split}-labels.lst\", \"r\") as f:\n",
    "        for line in f:\n",
    "            labels.append(int(line))\n",
    "            \n",
    "    anli = []\n",
    "    with open(f\"../data/anli/{split}.jsonl\", \"r\") as f:\n",
    "        for line in f:\n",
    "            data = json.loads(line)\n",
    "            anli.append([data['obs2'], f\"{data['obs1']} {data['hyp1']}\", f\"{data['obs1']} {data['hyp2']}\"])\n",
    "            \n",
    "    return anli, labels"
   ]
  },
  {
   "cell_type": "code",
   "execution_count": 23,
   "id": "7c18afc4",
   "metadata": {
    "ExecuteTime": {
     "end_time": "2022-02-27T06:24:48.566669Z",
     "start_time": "2022-02-27T06:24:48.545593Z"
    }
   },
   "outputs": [],
   "source": [
    "anli, labels = get_anli(\"test\")"
   ]
  },
  {
   "cell_type": "code",
   "execution_count": 19,
   "id": "73f5f71c",
   "metadata": {
    "ExecuteTime": {
     "end_time": "2022-02-27T06:22:03.142197Z",
     "start_time": "2022-02-27T06:21:58.893566Z"
    }
   },
   "outputs": [
    {
     "name": "stderr",
     "output_type": "stream",
     "text": [
      "Using pad_token, but it is not set yet.\n"
     ]
    }
   ],
   "source": [
    "gpt = scorer.IncrementalLMScorer(\"gpt2\")"
   ]
  },
  {
   "cell_type": "code",
   "execution_count": 30,
   "id": "32815087",
   "metadata": {
    "ExecuteTime": {
     "end_time": "2022-02-27T06:28:37.463066Z",
     "start_time": "2022-02-27T06:28:37.460529Z"
    }
   },
   "outputs": [],
   "source": [
    "anli_dl = DataLoader(anli, batch_size = 20, num_workers = 4)"
   ]
  },
  {
   "cell_type": "code",
   "execution_count": 32,
   "id": "e62dc2fd",
   "metadata": {
    "ExecuteTime": {
     "end_time": "2022-02-27T06:41:40.034208Z",
     "start_time": "2022-02-27T06:28:49.806378Z"
    }
   },
   "outputs": [
    {
     "name": "stderr",
     "output_type": "stream",
     "text": [
      "100%|██████████| 153/153 [12:50<00:00,  5.03s/it]\n"
     ]
    }
   ],
   "source": [
    "hyp1_scores = []\n",
    "hyp2_scores = []\n",
    "for batch in tqdm(anli_dl):\n",
    "    obs2, hyp1, hyp2 = batch\n",
    "    hyp1_scores.extend(gpt.partial_score(list(hyp1), list(obs2)))\n",
    "    hyp2_scores.extend(gpt.partial_score(list(hyp2), list(obs2)))\n",
    "    "
   ]
  },
  {
   "cell_type": "code",
   "execution_count": 52,
   "id": "5daedb8d",
   "metadata": {
    "ExecuteTime": {
     "end_time": "2022-02-27T06:45:38.907874Z",
     "start_time": "2022-02-27T06:45:38.904332Z"
    }
   },
   "outputs": [],
   "source": [
    "predicted = (torch.stack((torch.tensor(hyp1_scores), torch.tensor(hyp2_scores))).argmax(0)+1)"
   ]
  },
  {
   "cell_type": "code",
   "execution_count": 56,
   "id": "541e296f",
   "metadata": {
    "ExecuteTime": {
     "end_time": "2022-02-27T06:46:11.719523Z",
     "start_time": "2022-02-27T06:46:11.713477Z"
    }
   },
   "outputs": [
    {
     "data": {
      "text/plain": [
       "tensor(0.5273)"
      ]
     },
     "execution_count": 56,
     "metadata": {},
     "output_type": "execute_result"
    }
   ],
   "source": [
    "(torch.tensor(labels) == predicted).float().mean()"
   ]
  },
  {
   "cell_type": "code",
   "execution_count": 48,
   "id": "f0aa69e0",
   "metadata": {
    "ExecuteTime": {
     "end_time": "2022-02-27T06:44:48.313145Z",
     "start_time": "2022-02-27T06:44:48.309783Z"
    }
   },
   "outputs": [
    {
     "data": {
      "text/plain": [
       "True"
      ]
     },
     "execution_count": 48,
     "metadata": {},
     "output_type": "execute_result"
    }
   ],
   "source": [
    "len(labels) == len(predicted)"
   ]
  },
  {
   "cell_type": "code",
   "execution_count": 51,
   "id": "391970ee",
   "metadata": {
    "ExecuteTime": {
     "end_time": "2022-02-27T06:45:10.157245Z",
     "start_time": "2022-02-27T06:45:10.151557Z"
    }
   },
   "outputs": [
    {
     "data": {
      "text/plain": [
       "0.5272965021248774"
      ]
     },
     "execution_count": 51,
     "metadata": {},
     "output_type": "execute_result"
    }
   ],
   "source": [
    "accuracy_score(labels, predicted)"
   ]
  },
  {
   "cell_type": "code",
   "execution_count": 39,
   "id": "52f16ac3",
   "metadata": {
    "ExecuteTime": {
     "end_time": "2022-02-27T06:43:24.681917Z",
     "start_time": "2022-02-27T06:43:24.676886Z"
    }
   },
   "outputs": [
    {
     "data": {
      "text/plain": [
       "tensor([-2.9011, -3.5036, -3.3421,  ..., -4.0807, -3.2114, -2.7891])"
      ]
     },
     "execution_count": 39,
     "metadata": {},
     "output_type": "execute_result"
    }
   ],
   "source": [
    "torch.tensor(hyp1_scores)"
   ]
  },
  {
   "cell_type": "code",
   "execution_count": 27,
   "id": "e25c94b7",
   "metadata": {
    "ExecuteTime": {
     "end_time": "2022-02-27T06:24:54.398180Z",
     "start_time": "2022-02-27T06:24:54.112324Z"
    }
   },
   "outputs": [
    {
     "data": {
      "text/plain": [
       "([-2.789137840270996], [-3.0277607440948486])"
      ]
     },
     "execution_count": 27,
     "metadata": {},
     "output_type": "execute_result"
    }
   ],
   "source": [
    "gpt.partial_score(list(hyp1), list(obs2)), gpt.partial_score(list(hyp2), list(obs2))"
   ]
  }
 ],
 "metadata": {
  "kernelspec": {
   "display_name": "Python 3",
   "language": "python",
   "name": "python3"
  },
  "language_info": {
   "codemirror_mode": {
    "name": "ipython",
    "version": 3
   },
   "file_extension": ".py",
   "mimetype": "text/x-python",
   "name": "python",
   "nbconvert_exporter": "python",
   "pygments_lexer": "ipython3",
   "version": "3.8.10"
  }
 },
 "nbformat": 4,
 "nbformat_minor": 5
}
