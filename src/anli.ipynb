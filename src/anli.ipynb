{
 "cells": [
  {
   "cell_type": "code",
   "execution_count": 1,
   "id": "dabfab59",
   "metadata": {
    "ExecuteTime": {
     "end_time": "2022-02-27T06:44:18.041367Z",
     "start_time": "2022-02-27T06:44:18.038293Z"
    }
   },
   "outputs": [],
   "source": [
    "import json\n",
    "import torch\n",
    "\n",
    "from minicons import scorer\n",
    "\n",
    "from torch.utils.data import DataLoader\n",
    "from tqdm import tqdm\n",
    "\n",
    "from sklearn.metrics import accuracy_score, f1_score"
   ]
  },
  {
   "cell_type": "code",
   "execution_count": 2,
   "id": "041717b9",
   "metadata": {
    "ExecuteTime": {
     "end_time": "2022-02-27T06:19:19.575327Z",
     "start_time": "2022-02-27T06:19:19.571205Z"
    }
   },
   "outputs": [],
   "source": [
    "def get_anli(split = \"dev\"):\n",
    "    labels = []\n",
    "    with open(f\"../data/anli/{split}-labels.lst\", \"r\") as f:\n",
    "        for line in f:\n",
    "            labels.append(int(line))\n",
    "            \n",
    "    anli = []\n",
    "    with open(f\"../data/anli/{split}.jsonl\", \"r\") as f:\n",
    "        for line in f:\n",
    "            data = json.loads(line)\n",
    "            anli.append([data['obs2'], f\"{data['obs1']} {data['hyp1']}\", f\"{data['obs1']} {data['hyp2']}\"])\n",
    "            \n",
    "    return anli, labels"
   ]
  },
  {
   "cell_type": "code",
   "execution_count": 3,
   "id": "7c18afc4",
   "metadata": {
    "ExecuteTime": {
     "end_time": "2022-02-27T06:24:48.566669Z",
     "start_time": "2022-02-27T06:24:48.545593Z"
    }
   },
   "outputs": [],
   "source": [
    "anli, labels = get_anli(\"test\")"
   ]
  },
  {
   "cell_type": "code",
   "execution_count": 41,
   "id": "73f5f71c",
   "metadata": {
    "ExecuteTime": {
     "end_time": "2022-02-27T06:22:03.142197Z",
     "start_time": "2022-02-27T06:21:58.893566Z"
    }
   },
   "outputs": [
    {
     "name": "stderr",
     "output_type": "stream",
     "text": [
      "Downloading: 100%|██████████| 718/718 [00:00<00:00, 188kB/s]\n",
      "Downloading: 100%|██████████| 0.99M/0.99M [00:00<00:00, 1.88MB/s]\n",
      "Downloading: 100%|██████████| 446k/446k [00:00<00:00, 3.23MB/s]\n",
      "Downloading: 100%|██████████| 1.29M/1.29M [00:00<00:00, 5.44MB/s]\n",
      "Downloading: 100%|██████████| 1.42G/1.42G [01:38<00:00, 15.4MB/s]\n",
      "Using pad_token, but it is not set yet.\n"
     ]
    }
   ],
   "source": [
    "gpt = scorer.IncrementalLMScorer(\"gpt2-medium\")"
   ]
  },
  {
   "cell_type": "code",
   "execution_count": 29,
   "id": "23ba258f",
   "metadata": {},
   "outputs": [
    {
     "data": {
      "text/plain": [
       "[1, 2, 1, 2, 2]"
      ]
     },
     "execution_count": 29,
     "metadata": {},
     "output_type": "execute_result"
    }
   ],
   "source": [
    "labels[5:10]"
   ]
  },
  {
   "cell_type": "code",
   "execution_count": 28,
   "id": "62d65226",
   "metadata": {},
   "outputs": [
    {
     "data": {
      "text/plain": [
       "[['Tom and his friend had a lot of fun working together.',\n",
       "  'Tom applied for a job at a call center. His buddy Charles was already there.',\n",
       "  'Tom applied for a job at a call center. Tom worked with his father.'],\n",
       " ['Bob was banned from the game for a month afterwards.',\n",
       "  'Bob was playing league of legends. Some of the other players insulted Bob.',\n",
       "  'Bob was playing league of legends. He called someone online an asshole.'],\n",
       " ['The hotel profit grew and the business gave Tom huge bonus pay.',\n",
       "  \"Tom's business decided to buy a franchised hotel. Tom's business plan made money for the hotel.\",\n",
       "  \"Tom's business decided to buy a franchised hotel. Because of no experience, Tom was demoted to another position.\"],\n",
       " ['ISIS killed them.',\n",
       "  'Two girls have boyfriends in isis. the boyfriends were american citizens.',\n",
       "  'Two girls have boyfriends in isis. The girls become involved with ISIS.'],\n",
       " ['It turned out they never survive when caught.',\n",
       "  'Beth caught two fireflies in a jar. Beth found the fireflies had eaten.',\n",
       "  'Beth caught two fireflies in a jar. beth found the fireflies dead.']]"
      ]
     },
     "execution_count": 28,
     "metadata": {},
     "output_type": "execute_result"
    }
   ],
   "source": [
    "anli[5:10]"
   ]
  },
  {
   "cell_type": "code",
   "execution_count": 42,
   "id": "32815087",
   "metadata": {
    "ExecuteTime": {
     "end_time": "2022-02-27T06:28:37.463066Z",
     "start_time": "2022-02-27T06:28:37.460529Z"
    }
   },
   "outputs": [],
   "source": [
    "anli_dl = DataLoader(anli[5:10], batch_size = 5)"
   ]
  },
  {
   "cell_type": "code",
   "execution_count": 43,
   "id": "ce011e3d",
   "metadata": {},
   "outputs": [],
   "source": [
    "for batch in anli_dl:\n",
    "    pass"
   ]
  },
  {
   "cell_type": "code",
   "execution_count": 44,
   "id": "d2f9aa12",
   "metadata": {},
   "outputs": [],
   "source": [
    "obs2, hyp1, hyp2 = batch"
   ]
  },
  {
   "cell_type": "code",
   "execution_count": 45,
   "id": "35f0d298",
   "metadata": {},
   "outputs": [],
   "source": [
    "hyp1_scores = []\n",
    "hyp2_scores = []\n",
    "hyp1_scores.extend(gpt.partial_score(list(hyp1), list(obs2), reduction=lambda x: x.sum(0).item()))\n",
    "hyp2_scores.extend(gpt.partial_score(list(hyp2), list(obs2), reduction=lambda x: x.sum(0).item()))"
   ]
  },
  {
   "cell_type": "code",
   "execution_count": 46,
   "id": "57fe35bf",
   "metadata": {},
   "outputs": [],
   "source": [
    "predicted = (torch.stack((torch.tensor(hyp1_scores), torch.tensor(hyp2_scores))).argmax(0)+1)"
   ]
  },
  {
   "cell_type": "code",
   "execution_count": 47,
   "id": "4c850fc7",
   "metadata": {},
   "outputs": [
    {
     "data": {
      "text/plain": [
       "([2, 1, 1, 1, 2], tensor([2, 1, 1, 1, 2]))"
      ]
     },
     "execution_count": 47,
     "metadata": {},
     "output_type": "execute_result"
    }
   ],
   "source": [
    "labels[:10][:5], predicted"
   ]
  },
  {
   "cell_type": "code",
   "execution_count": 48,
   "id": "a768d295",
   "metadata": {},
   "outputs": [
    {
     "data": {
      "text/plain": [
       "[(-33.70368194580078, -27.90334701538086),\n",
       " (-29.258975982666016, -34.2630615234375),\n",
       " (-47.15886688232422, -52.57579040527344),\n",
       " (-13.972801208496094, -14.551834106445312),\n",
       " (-38.940528869628906, -38.845726013183594)]"
      ]
     },
     "execution_count": 48,
     "metadata": {},
     "output_type": "execute_result"
    }
   ],
   "source": [
    "list(zip(hyp1_scores, hyp2_scores))"
   ]
  },
  {
   "cell_type": "code",
   "execution_count": 40,
   "id": "d341b5ab",
   "metadata": {},
   "outputs": [
    {
     "data": {
      "text/plain": [
       "[[('Tom', 0.0),\n",
       "  ('applied', -11.225250244140625),\n",
       "  ('for', -1.5445404052734375),\n",
       "  ('a', -1.4278068542480469),\n",
       "  ('job', -1.6258468627929688),\n",
       "  ('at', -1.205352783203125),\n",
       "  ('a', -2.2387351989746094),\n",
       "  ('call', -7.6460418701171875),\n",
       "  ('center', -0.33109283447265625),\n",
       "  ('.', -2.320404052734375),\n",
       "  ('His', -3.696258544921875),\n",
       "  ('buddy', -8.141716003417969),\n",
       "  ('Charles', -7.778144836425781),\n",
       "  ('was', -2.7195816040039062),\n",
       "  ('already', -4.171699523925781),\n",
       "  ('there', -1.3886184692382812),\n",
       "  ('.', -1.276641845703125),\n",
       "  ('Tom', -8.863441467285156),\n",
       "  ('and', -3.7482376098632812),\n",
       "  ('his', -2.6439132690429688),\n",
       "  ('friend', -1.9194564819335938),\n",
       "  ('had', -3.78790283203125),\n",
       "  ('a', -2.5724945068359375),\n",
       "  ('lot', -3.3725738525390625),\n",
       "  ('of', -0.4783773422241211),\n",
       "  ('fun', -1.9626235961914062),\n",
       "  ('working', -2.7781906127929688),\n",
       "  ('together', -2.467620849609375),\n",
       "  ('.', -0.829345703125)]]"
      ]
     },
     "execution_count": 40,
     "metadata": {},
     "output_type": "execute_result"
    }
   ],
   "source": [
    "gpt.token_score(\"Tom applied for a job at a call center. His buddy Charles was already there. Tom and his friend had a lot of fun working together.\")"
   ]
  },
  {
   "cell_type": "code",
   "execution_count": 36,
   "id": "02b119dd",
   "metadata": {},
   "outputs": [],
   "source": [
    "x = [('Tom', -2.4024810791015625),\n",
    "  ('and', -3.6292877197265625),\n",
    "  ('his', -0.414031982421875),\n",
    "  ('friend', -5.403038024902344),\n",
    "  ('had', -3.56390380859375),\n",
    "  ('a', -1.6639251708984375),\n",
    "  ('lot', -3.6679534912109375),\n",
    "  ('of', -0.35161805152893066),\n",
    "  ('fun', -1.5521011352539062),\n",
    "  ('working', -2.3483734130859375),\n",
    "  ('together', -1.6277923583984375),\n",
    "  ('.', -0.5834808349609375)]\n",
    "\n",
    "words, lps = list(zip(*x))"
   ]
  },
  {
   "cell_type": "code",
   "execution_count": 39,
   "id": "acd8c9aa",
   "metadata": {},
   "outputs": [
    {
     "data": {
      "text/plain": [
       "tensor(-27.2080)"
      ]
     },
     "execution_count": 39,
     "metadata": {},
     "output_type": "execute_result"
    }
   ],
   "source": [
    "torch.tensor(lps).sum()"
   ]
  },
  {
   "cell_type": "code",
   "execution_count": 27,
   "id": "69392247",
   "metadata": {},
   "outputs": [
    {
     "data": {
      "text/plain": [
       "[('Tom applied for a job at a call center. Tom worked with his father.',\n",
       "  'Tom and his friend had a lot of fun working together.',\n",
       "  -27.20798683166504),\n",
       " ('Bob was playing league of legends. He called someone online an asshole.',\n",
       "  'Bob was banned from the game for a month afterwards.',\n",
       "  -35.95820999145508),\n",
       " (\"Tom's business decided to buy a franchised hotel. Because of no experience, Tom was demoted to another position.\",\n",
       "  'The hotel profit grew and the business gave Tom huge bonus pay.',\n",
       "  -58.56022644042969),\n",
       " ('Two girls have boyfriends in isis. The girls become involved with ISIS.',\n",
       "  'ISIS killed them.',\n",
       "  -13.746368408203125),\n",
       " ('Beth caught two fireflies in a jar. beth found the fireflies dead.',\n",
       "  'It turned out they never survive when caught.',\n",
       "  -39.0667724609375)]"
      ]
     },
     "execution_count": 27,
     "metadata": {},
     "output_type": "execute_result"
    }
   ],
   "source": [
    "list(zip(hyp2, obs2, hyp2_scores))"
   ]
  },
  {
   "cell_type": "code",
   "execution_count": 32,
   "id": "e62dc2fd",
   "metadata": {
    "ExecuteTime": {
     "end_time": "2022-02-27T06:41:40.034208Z",
     "start_time": "2022-02-27T06:28:49.806378Z"
    }
   },
   "outputs": [
    {
     "name": "stderr",
     "output_type": "stream",
     "text": [
      "100%|██████████| 153/153 [12:50<00:00,  5.03s/it]\n"
     ]
    }
   ],
   "source": [
    "hyp1_scores = []\n",
    "hyp2_scores = []\n",
    "for batch in tqdm(anli_dl):\n",
    "    obs2, hyp1, hyp2 = batch\n",
    "    hyp1_scores.extend(gpt.partial_score(list(hyp1), list(obs2)))\n",
    "    hyp2_scores.extend(gpt.partial_score(list(hyp2), list(obs2)))\n",
    "    "
   ]
  },
  {
   "cell_type": "code",
   "execution_count": 52,
   "id": "5daedb8d",
   "metadata": {
    "ExecuteTime": {
     "end_time": "2022-02-27T06:45:38.907874Z",
     "start_time": "2022-02-27T06:45:38.904332Z"
    }
   },
   "outputs": [],
   "source": [
    "predicted = (torch.stack((torch.tensor(hyp1_scores), torch.tensor(hyp2_scores))).argmax(0)+1)"
   ]
  },
  {
   "cell_type": "code",
   "execution_count": 51,
   "metadata": {},
   "outputs": [
    {
     "data": {
      "text/plain": [
       "tensor([2, 1, 1, 1, 2])"
      ]
     },
     "execution_count": 51,
     "metadata": {},
     "output_type": "execute_result"
    }
   ],
   "source": [
    "torch.stack((torch.tensor(hyp1_scores), torch.tensor(hyp2_scores))).argmax(0)+1"
   ]
  },
  {
   "cell_type": "code",
   "execution_count": 56,
   "id": "541e296f",
   "metadata": {
    "ExecuteTime": {
     "end_time": "2022-02-27T06:46:11.719523Z",
     "start_time": "2022-02-27T06:46:11.713477Z"
    }
   },
   "outputs": [
    {
     "data": {
      "text/plain": [
       "tensor(0.5273)"
      ]
     },
     "execution_count": 56,
     "metadata": {},
     "output_type": "execute_result"
    }
   ],
   "source": [
    "(torch.tensor(labels) == predicted).float().mean()"
   ]
  },
  {
   "cell_type": "code",
   "execution_count": 48,
   "id": "f0aa69e0",
   "metadata": {
    "ExecuteTime": {
     "end_time": "2022-02-27T06:44:48.313145Z",
     "start_time": "2022-02-27T06:44:48.309783Z"
    }
   },
   "outputs": [
    {
     "data": {
      "text/plain": [
       "True"
      ]
     },
     "execution_count": 48,
     "metadata": {},
     "output_type": "execute_result"
    }
   ],
   "source": [
    "len(labels) == len(predicted)"
   ]
  },
  {
   "cell_type": "code",
   "execution_count": 51,
   "id": "391970ee",
   "metadata": {
    "ExecuteTime": {
     "end_time": "2022-02-27T06:45:10.157245Z",
     "start_time": "2022-02-27T06:45:10.151557Z"
    }
   },
   "outputs": [
    {
     "data": {
      "text/plain": [
       "0.5272965021248774"
      ]
     },
     "execution_count": 51,
     "metadata": {},
     "output_type": "execute_result"
    }
   ],
   "source": [
    "accuracy_score(labels, predicted)"
   ]
  },
  {
   "cell_type": "code",
   "execution_count": 39,
   "id": "52f16ac3",
   "metadata": {
    "ExecuteTime": {
     "end_time": "2022-02-27T06:43:24.681917Z",
     "start_time": "2022-02-27T06:43:24.676886Z"
    }
   },
   "outputs": [
    {
     "data": {
      "text/plain": [
       "tensor([-2.9011, -3.5036, -3.3421,  ..., -4.0807, -3.2114, -2.7891])"
      ]
     },
     "execution_count": 39,
     "metadata": {},
     "output_type": "execute_result"
    }
   ],
   "source": [
    "torch.tensor(hyp1_scores)"
   ]
  },
  {
   "cell_type": "code",
   "execution_count": 27,
   "id": "e25c94b7",
   "metadata": {
    "ExecuteTime": {
     "end_time": "2022-02-27T06:24:54.398180Z",
     "start_time": "2022-02-27T06:24:54.112324Z"
    }
   },
   "outputs": [
    {
     "data": {
      "text/plain": [
       "([-2.789137840270996], [-3.0277607440948486])"
      ]
     },
     "execution_count": 27,
     "metadata": {},
     "output_type": "execute_result"
    }
   ],
   "source": [
    "gpt.partial_score(list(hyp1), list(obs2)), gpt.partial_score(list(hyp2), list(obs2))"
   ]
  }
 ],
 "metadata": {
  "kernelspec": {
   "display_name": "Python 3",
   "language": "python",
   "name": "python3"
  },
  "language_info": {
   "codemirror_mode": {
    "name": "ipython",
    "version": 3
   },
   "file_extension": ".py",
   "mimetype": "text/x-python",
   "name": "python",
   "nbconvert_exporter": "python",
   "pygments_lexer": "ipython3",
   "version": "3.8.3"
  }
 },
 "nbformat": 4,
 "nbformat_minor": 5
}
